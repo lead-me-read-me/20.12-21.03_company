{
 "cells": [
  {
   "cell_type": "markdown",
   "metadata": {},
   "source": [
    "# MySQL 튜토리얼\n",
    "---"
   ]
  },
  {
   "cell_type": "markdown",
   "metadata": {},
   "source": [
    "## SELECT"
   ]
  },
  {
   "cell_type": "markdown",
   "metadata": {},
   "source": [
    "### 기초 문법\n",
    "1. MySQL에서는 `SELECT`문을 사용하여 테이블의 레코드를 `선택`할 수 있다.\n",
    "    + `SELECT 필드이름 FROM 테이블이름 [WHERE 조건]`\n",
    "2. 테이블의 모든 필드 선택\n",
    "    + `SELECT * FROM 테이블이름`\n",
    "3. 테이블의 특정 조건의 레코드 선택 with `WHERE`\n",
    "4. 중복되는 값 제거 with `DISTINCT`\n",
    "5. 선택한 결과의 정렬 with `ORDER BY 필드이름 DESC(내림차순)` 또는 `ORDER BY 필드이름 ASC(오름차순)`\n",
    "6. 별칭(alias)을 이용한 처리 with `AS`\n",
    "    + `SELECT 필드이름 AS 필드별칭 FROM 테이블이름`\n",
    "    + `SELECT 필드이름 FROM 테이블이름 AS 테이블별칭`"
   ]
  },
  {
   "cell_type": "markdown",
   "metadata": {},
   "source": [
    "## DELETE\n",
    "1. MySQL에서는 `DELETE`문을 사용하여 테이블의 레코드를 `삭제`할 수 있다.\n",
    "    + `DELETE FROM 테이블이름 WHERE 조건`\n",
    "    + 조건을 만족하는 레코드를 삭제한다.\n",
    "2. WHERE문을 아래와 같이 생략하면 해당 테이블의 모든 데이터가 삭제된다.\n",
    "    + `DELETE FROM 테이블이름`\n",
    "    + 테이블까지 삭제하려면 ... `DROP TABLE 테이블이름`"
   ]
  },
  {
   "cell_type": "markdown",
   "metadata": {},
   "source": [
    "## UPDATE"
   ]
  },
  {
   "cell_type": "markdown",
   "metadata": {},
   "source": [
    "1. MySQL에서는 `UPDATE`문을 사용하여 테이블의 레코드를 `수정`할 수 있다.\n",
    "    + `UPDATE 테이블이름 SET 수정정보 WHERE 조건`\n",
    "    + 조건을 만족하는 레코드의 값을 수정정보에 따라 수정한다.\n",
    "    + (Ex) UPDATE Reservation SET RoomNum=2002 WHERE Name=\"홍길동\""
   ]
  },
  {
   "cell_type": "markdown",
   "metadata": {},
   "source": [
    "---"
   ]
  },
  {
   "cell_type": "markdown",
   "metadata": {},
   "source": [
    "# JOIN\n",
    "![join_diagram](../sql_image/join_1.png)"
   ]
  },
  {
   "cell_type": "code",
   "execution_count": null,
   "metadata": {},
   "outputs": [],
   "source": []
  }
 ],
 "metadata": {
  "kernelspec": {
   "display_name": "babylab_crawling_jupyter",
   "language": "python",
   "name": "babylab_crawling"
  },
  "language_info": {
   "codemirror_mode": {
    "name": "ipython",
    "version": 3
   },
   "file_extension": ".py",
   "mimetype": "text/x-python",
   "name": "python",
   "nbconvert_exporter": "python",
   "pygments_lexer": "ipython3",
   "version": "3.7.9"
  },
  "toc-autonumbering": true
 },
 "nbformat": 4,
 "nbformat_minor": 4
}
