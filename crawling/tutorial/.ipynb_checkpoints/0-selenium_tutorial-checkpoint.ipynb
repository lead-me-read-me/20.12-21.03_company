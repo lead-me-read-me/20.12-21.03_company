{
 "cells": [
  {
   "cell_type": "markdown",
   "metadata": {},
   "source": [
    "---\n",
    "# Selenium 연습\n",
    "+ 참고사이트 : <a href=\"https://greeksharifa.github.io/references/2020/10/30/python-selenium-usage/\">Gorio Learning - Python Selenium 사용법</a>\n",
    "---"
   ]
  },
  {
   "cell_type": "markdown",
   "metadata": {},
   "source": [
    "## 0. Install\n",
    "+ 웹 브라우저 별 selenium webdriver를 다운로드한다. (웹 브라우저는 크롬을 추천)\n",
    "+ 크롬 버전 확인 : 브라우저 오른쪽 끝에서 `더보기 > 도움말 > Chrome 정보`\n",
    "+ 현재 내 컴퓨터 크롬 버전 : `버전 87.0.4280.88(공식 빌드) (64비트)`\n",
    "+ <a href=\"https://sites.google.com/a/chromium.org/chromedriver/downloads\">ChromeDriver(WebDriver for Chrome) 다운로드</a>\n",
    "+ 다운받은 드라이버 파일을 워킹 디렉토리로 옮기면 path입력이 간단해진다."
   ]
  },
  {
   "cell_type": "markdown",
   "metadata": {},
   "source": [
    "<img src=\"./selenium_image/appropriate_chrome_driver.png\"\n",
    "     alt=\"크롬 버전에 맞는 크롬 드라이버\">"
   ]
  },
  {
   "cell_type": "markdown",
   "metadata": {},
   "source": [
    "---"
   ]
  },
  {
   "cell_type": "markdown",
   "metadata": {},
   "source": [
    "## 1. Import"
   ]
  },
  {
   "cell_type": "code",
   "execution_count": 1,
   "metadata": {},
   "outputs": [],
   "source": [
    "import selenium\n",
    "from selenium import webdriver\n",
    "from selenium.webdriver import ActionChains\n",
    "\n",
    "from selenium.webdriver.common.keys import Keys\n",
    "from selenium.webdriver.common.by import By\n",
    "\n",
    "from selenium.webdriver.support import expected_conditions as EC\n",
    "from selenium.webdriver.support.ui import Select\n",
    "from selenium.webdriver.support.ui import WebDriverWait\n",
    "\n",
    "import time"
   ]
  },
  {
   "cell_type": "markdown",
   "metadata": {},
   "source": [
    "---"
   ]
  },
  {
   "cell_type": "markdown",
   "metadata": {},
   "source": [
    "## 2. 불러오기 (Driver & Web Load)"
   ]
  },
  {
   "cell_type": "code",
   "execution_count": 2,
   "metadata": {},
   "outputs": [],
   "source": [
    "URL = \"https://www.miraeassetdaewoo.com/hki/hki3028/r01.do\" # \"증권용어사전 | 미래에셋대우\"\n",
    "\n",
    "driver = webdriver.Chrome(executable_path=\"./chromedriver\")\n",
    "driver.get(url=URL)"
   ]
  },
  {
   "cell_type": "markdown",
   "metadata": {},
   "source": [
    "1. 먼저 `webdriver.Chrome(executable_path=driver_path)` 함수를 사용하여 드라이버를 로드한다.\n",
    "2. `get(url)` 함수로 해당 url을 브라우저에 띄운다."
   ]
  },
  {
   "cell_type": "markdown",
   "metadata": {},
   "source": [
    "### 2.1. 현재 url 얻기"
   ]
  },
  {
   "cell_type": "code",
   "execution_count": null,
   "metadata": {},
   "outputs": [],
   "source": [
    "print(driver.current_url)"
   ]
  },
  {
   "cell_type": "markdown",
   "metadata": {},
   "source": [
    "### 2.2. 브라우저 닫기"
   ]
  },
  {
   "cell_type": "code",
   "execution_count": null,
   "metadata": {},
   "outputs": [],
   "source": [
    "driver.close()"
   ]
  },
  {
   "cell_type": "markdown",
   "metadata": {},
   "source": [
    "### 2.3. Wait till Load Webpage (로딩 대기)\n",
    "+ 브라우저에서 해당 웹 페이지의 요소들을 로드하는데 시간이 걸린다.\n",
    "+ 따라서 element가 존재하지 않는다는 error를 보고 싶지 않다면 해당 요소가 전부 준비가 될 때까지 대기해야 한다."
   ]
  },
  {
   "cell_type": "markdown",
   "metadata": {},
   "source": [
    "#### 2.3.1. Implicit Waits (암묵적 대기)"
   ]
  },
  {
   "cell_type": "code",
   "execution_count": 4,
   "metadata": {},
   "outputs": [],
   "source": [
    "driver.implicitly_wait(time_to_wait=5)"
   ]
  },
  {
   "cell_type": "markdown",
   "metadata": {},
   "source": [
    "+ 찾으려는 element가 로드될 때까지 지정한 시간만큼 대기할 수 있도록 설정한다.\n",
    "+ 이는 한 webdriver에 영구적으로 작용한다.\n",
    "+ 인자는 초 단위이며, default는 0이고 위의 예시는 5초까지 기다려 준다는 의미이다."
   ]
  },
  {
   "cell_type": "markdown",
   "metadata": {},
   "source": [
    "#### 2.3.2. Explicit Waits (명시적 대기)\n",
    "+ 간단하게 `time.sleep(secs)` 함수를 사용하여 무조건 몇 초간 대기하는 방법이 있다.\n",
    "+ 매우 편리하지만 효율이 낮기 때문에 지양한다."
   ]
  },
  {
   "cell_type": "code",
   "execution_count": 23,
   "metadata": {},
   "outputs": [
    {
     "name": "stdout",
     "output_type": "stream",
     "text": [
      "Gmail\n"
     ]
    }
   ],
   "source": [
    "driver = webdriver.Chrome('./chromedriver')\n",
    "driver.get(url='https://www.google.com/')\n",
    "try:\n",
    "    element = WebDriverWait(driver, 5).until(\n",
    "        EC.presence_of_element_located((By.TAG_NAME , 'a')) # 조건 : element가 존재하는가?\n",
    "    )\n",
    "    print(element.text)\n",
    "finally:\n",
    "    driver.quit()"
   ]
  },
  {
   "cell_type": "markdown",
   "metadata": {},
   "source": [
    "+ 위의 코드는 웹페이지에서 class가 gLFyf인 어떤 element를 찾을 수 있는지를 최대 5초 동안 매 0.5초마다 시도한다. \n",
    "+ expected_conditions(`EC`)는 만약 element를 찾을 수 있었으면 True를, 아니라면 False를 반환한다.\n",
    "+ `until(method, message=\"\")` 함수는 method의 반환값이 `False`인 동안 계속 method를 실행한다.\n",
    "+ 반대로 `until_not(method, message=\"\")` 함수는 method의 반환값이 `True`인 동안 계속 method를 실행한다.\n",
    "+ 그래서 웹 드라이버에게 최대 5초동안만 기다리게끔 코드를 작성한 것."
   ]
  },
  {
   "cell_type": "markdown",
   "metadata": {},
   "source": [
    "+ 조건은 상황에 맞게 아래의 것 중 적절한 것을 선택하여 변경할 수 있다.\n",
    "    1. title_is\n",
    "    2. title_contains\n",
    "    3. presence_of_element_located\n",
    "    4. visibility_of_element_located\n",
    "    5. visibility_of\n",
    "    6. presence_of_all_elements_located\n",
    "    7. text_to_be_present_in_element\n",
    "    8. text_to_be_present_in_element_value\n",
    "    9. frame_to_be_available_and_switch_to_it\n",
    "    10. invisibility_of_element_located\n",
    "    11. element_to_be_clickable\n",
    "    12. staleness_of\n",
    "    13. element_to_be_selected\n",
    "    14. element_located_to_be_selected\n",
    "    15. element_selection_state_to_be\n",
    "    16. element_located_selection_state_to_be\n",
    "    17. alert_is_present"
   ]
  },
  {
   "cell_type": "markdown",
   "metadata": {},
   "source": [
    "---"
   ]
  },
  {
   "cell_type": "markdown",
   "metadata": {},
   "source": [
    "## 3. 시작하기 전에 ..."
   ]
  },
  {
   "cell_type": "code",
   "execution_count": 2,
   "metadata": {},
   "outputs": [
    {
     "name": "stdout",
     "output_type": "stream",
     "text": [
      "0 : GitHub - 나무위키\n",
      "1 : The GitHub Blog - Updates, ideas, and inspiration from GitHub ...\n",
      "2 : GitHub - Wikipedia\n",
      "3 : 깃허브 - 위키백과, 우리 모두의 백과사전\n",
      "4 : GitHub (@github) | Twitter\n",
      "5 : Slack용 GitHub | Slack\n"
     ]
    }
   ],
   "source": [
    "from selenium import webdriver\n",
    "from selenium.webdriver.common.keys import Keys\n",
    "from time import sleep\n",
    "\n",
    "options = webdriver.ChromeOptions()\n",
    "options.add_argument(\"window-size=1920,1080\")\n",
    "\n",
    "driver = webdriver.Chrome(\"./chromedriver\", options=options)\n",
    "driver.implicitly_wait(5)\n",
    "\n",
    "driver.get(url=\"https://www.google.com/\") # 드라이버가 서버에 요청을 보냄\n",
    "try :\n",
    "    search_box = driver.find_element_by_xpath(\"//*[@title='검색']\")\n",
    "    search_box.send_keys(\"github\")    # 문자열을 search_box에 전달\n",
    "    search_box.send_keys(Keys.RETURN) # 엔터\n",
    "    \n",
    "    xpath_for_elements = '//*[@id=\"center_col\"]/div[@id=\"res\"]/div[@id=\"search\"]/div[1]/div[1]/div[*]/div[*]/div[@class=\"yuRUbf\"]/a[*]/h3[*]'\n",
    "    elements = driver.find_elements_by_xpath(xpath_for_elements)\n",
    "    \n",
    "    file = open(\"./gorio.text\", 'a', encoding='utf-8')\n",
    "    for idx, element in enumerate(elements) :\n",
    "        print(\"{:d} : {}\".format(idx, element.text))\n",
    "        print(element.text, file=file)\n",
    "    \n",
    "except Exception as e :\n",
    "    print(\"There is an Exception!\")\n",
    "    print(str(e))\n",
    "    \n",
    "finally :\n",
    "    time.sleep(3)\n",
    "    driver.close()"
   ]
  },
  {
   "cell_type": "code",
   "execution_count": 3,
   "metadata": {},
   "outputs": [
    {
     "name": "stdout",
     "output_type": "stream",
     "text": [
      "YW & YY's Python, Machine & Deep Learning\n",
      "sharifa greeksharifa - GitHub\n",
      "greeksharifa/greeksharifa.github.io - GitHub\n",
      "Link 수정 · Issue #1 · greeksharifa/greeksharifa.github.io · GitHub\n",
      "greeksharifa/ps_code - GitHub\n",
      "Youyoung Jang ocasoyy - GitHub\n",
      "Top 6 Similar web sites like greeksharifa.github.io and ...\n",
      "Similar sites like mediagotosa.com\n",
      "Python 정규표현식 참고 : 네이버 블로그\n",
      "이태호\n",
      "Message: no such element: Unable to locate element: {\"method\":\"xpath\",\"selector\":\"//*[@id=\"rso\"]/div/div[1]/div/div/div/div[1]/a/h3/span\"}\n",
      "  (Session info: chrome=87.0.4280.88)\n",
      "\n"
     ]
    }
   ],
   "source": [
    "from selenium import webdriver\n",
    "from selenium.webdriver.common.keys import Keys\n",
    "from time import sleep\n",
    "\n",
    "options = webdriver.ChromeOptions()\n",
    "options.add_argument('window-size=1920,1080')\n",
    "\n",
    "driver = webdriver.Chrome('./chromedriver', options=options)\n",
    "driver.implicitly_wait(5)\n",
    "\n",
    "try :\n",
    "    driver.get(url='https://www.google.com/') # request\n",
    "    driver.maximize_window()\n",
    "\n",
    "    xpath_for_search_box = '//*[@id=\"tsf\"]/div[2]/div[1]/div[1]/div/div[2]/input'\n",
    "    search_box = driver.find_element_by_xpath(xpath_for_search_box)\n",
    "\n",
    "    search_box.send_keys('greeksharifa.github.io')\n",
    "    search_box.send_keys(Keys.RETURN)\n",
    "    \n",
    "#     action_chains = ActionChains(driver)\n",
    "#     action_chains.drag_and_drop().perform()\n",
    "    \n",
    "    elements = driver.find_elements_by_xpath('//*[@id=\"rso\"]/div[*]/div/div[1]/a/h3/span')\n",
    "\n",
    "    file = open('gorio.txt', 'w', encoding='utf-8')\n",
    "    for element in elements:\n",
    "        print(element.text)\n",
    "        print(element.text, file=file)\n",
    "        \n",
    "    xpath_for_first_posting = '//*[@id=\"rso\"]/div/div[1]/div/div/div/div[1]/a/h3/span'\n",
    "    posting = driver.find_element_by_xpath(xpath_for_first_posting)\n",
    "    posting.click()\n",
    "    \n",
    "except Exception as e:\n",
    "    print(str(e))\n",
    "finally :\n",
    "    sleep(3)\n",
    "    driver.close()"
   ]
  },
  {
   "cell_type": "markdown",
   "metadata": {},
   "source": [
    "+ `search_box` 변수에 구글의 검색창 요소가 담겨 있다.\n",
    "+ 선택한 요로에 키보드 입력을 보내거나 클릭하는 등의 행동을 할 수 있다."
   ]
  },
  {
   "cell_type": "markdown",
   "metadata": {},
   "source": [
    "---"
   ]
  },
  {
   "cell_type": "markdown",
   "metadata": {},
   "source": [
    "## 4. 요소 찾기 (Loading Elements)\n",
    "+ Selenium은 다양한 요소(element)를 찾는 방법을 지원한다.\n",
    "+ 먼저 어떤 요소를 찾을지부터 정해야한다. (`ctrl + shift + c` or `F12(개발자도구)`)\n",
    "\n",
    "1. `find_element(self, by, value)` : 조건에 맞는 요소를 하나만 반환.\n",
    "    + `find_element_*(self, str)` : 위와 동일하지만 by가 고정된 메서드임.\n",
    "2. `find_elements(self, by, value)`: 조건에 맞는 요소들을 이터러블로 반환.\n",
    "    + `find_elements_*(self, value)` : 위와 동일하지만 by가 고정된 메서드임."
   ]
  },
  {
   "cell_type": "markdown",
   "metadata": {},
   "source": [
    "### 4.1. XPath로 요소 찾기\n",
    "\n",
    "|표현식   |설명                                |\n",
    "|:------:|:---------------------------------:|\n",
    "|nodename|`nodename`을 name으로 갖는 모든 요소선택|\n",
    "|/       |root 요소에서 선택                    |\n",
    "|//      |현재 요소의 자손 요소를 선택             |\n",
    "|.       |현재 요소를 선택                       |\n",
    "|..      |현재 요소의 부모 요소를 선택             |\n",
    "|@       |속성(attibutes)를 선택                |\n",
    "|*       |모든 요소에 매치됨                     |\n",
    "|@*      |모든 속성요소에 매치됨                  |\n",
    "|node()  |모든 종류의 모든 요소에 매치됨            |\n",
    "|\\|      |OR 조건의 기능                        |\n"
   ]
  },
  {
   "cell_type": "markdown",
   "metadata": {},
   "source": [
    "|표현식   |설명                                |\n",
    "|:-----:|:----------------------------------:|\n",
    "|/div\t|root 요소의 div 요소|\n",
    "|./div\t|현재 요소의 자식 요소 중 div 요소|\n",
    "|/*\t|name에 상관없이 root 요소를 선택|\n",
    "|./* 또는 *\t|context 요소의 모든 자식 요소를 선택|\n",
    "|//div\t|현재 웹페이지에서 모든 div 요소를 선택|\n",
    "|.//div\t|현재 요소의 모든 자손 div 요소를 선택|\n",
    "|//*\t|현재 웹페이지의 모든 요소를 선택|\n",
    "|.//*\t|현재 요소의 모든 자손 요소를 선택|\n",
    "|/div/p[0]\t|root > div > p 요소 중 첫 번째 p 요소를 선택|\n",
    "|/div/p[position()<3]\t|root > div > p 요소 중 첫 두 p 요소를 선택|\n",
    "|/div/p[last()]\t|root > div > p 요소 중 마지막 p 요소를 선택|\n",
    "|/bookstore/book[price>35.00]\t|root > bookstore > book 요소 중 price 속성이 35.00 초과인 요소들을 선택|\n",
    "|//*[@id=\"tsf\"]/div[2]/\t|id가 tsf인 모든 요소의 자식 div 요소 중 3번째 요소를 선택|\n",
    "|//title \\| //price\t|title 또는 price 요소를 선택|"
   ]
  },
  {
   "cell_type": "markdown",
   "metadata": {},
   "source": [
    "---"
   ]
  },
  {
   "cell_type": "markdown",
   "metadata": {},
   "source": [
    "## 5. 텍스트 입력 (키보드 입력)\n",
    "1. 기본적으로 `send_keys(*value)` 함수는 문자열을 받지만 `enter` 같은 특수 키 입력의 경우(`RETURN='0ue006'`)도 문자열로 처리 가능하다.\n",
    "    + ex. search_box.send_keys(\"github\")    : search_box에 \"github\"를 전달한다.\n",
    "    + ex. search_box.send_keys(Keys.RETURN) : search_box에 엔터를 전달한다.\n",
    "\n",
    "2. 아래는 입력할 수 있는 Keys의 목록이다.\n",
    "```\n",
    "class Keys(object):\n",
    "    \"\"\"\n",
    "    Set of special keys codes.\n",
    "    \"\"\"\n",
    "\n",
    "    NULL = '\\ue000'\n",
    "    CANCEL = '\\ue001'  # ^break\n",
    "    HELP = '\\ue002'\n",
    "    BACKSPACE = '\\ue003'\n",
    "    BACK_SPACE = BACKSPACE\n",
    "    TAB = '\\ue004'\n",
    "    CLEAR = '\\ue005'\n",
    "    RETURN = '\\ue006'\n",
    "    ENTER = '\\ue007'\n",
    "    SHIFT = '\\ue008'\n",
    "    LEFT_SHIFT = SHIFT\n",
    "    CONTROL = '\\ue009'\n",
    "    LEFT_CONTROL = CONTROL\n",
    "    ALT = '\\ue00a'\n",
    "    LEFT_ALT = ALT\n",
    "    PAUSE = '\\ue00b'\n",
    "    ESCAPE = '\\ue00c'\n",
    "    SPACE = '\\ue00d'\n",
    "    PAGE_UP = '\\ue00e'\n",
    "    PAGE_DOWN = '\\ue00f'\n",
    "    END = '\\ue010'\n",
    "    HOME = '\\ue011'\n",
    "    LEFT = '\\ue012'\n",
    "    ARROW_LEFT = LEFT\n",
    "    UP = '\\ue013'\n",
    "    ARROW_UP = UP\n",
    "    RIGHT = '\\ue014'\n",
    "    ARROW_RIGHT = RIGHT\n",
    "    DOWN = '\\ue015'\n",
    "    ARROW_DOWN = DOWN\n",
    "    INSERT = '\\ue016'\n",
    "    DELETE = '\\ue017'\n",
    "    SEMICOLON = '\\ue018'\n",
    "    EQUALS = '\\ue019'\n",
    "\n",
    "    NUMPAD0 = '\\ue01a'  # number pad keys\n",
    "    NUMPAD1 = '\\ue01b'\n",
    "    NUMPAD2 = '\\ue01c'\n",
    "    NUMPAD3 = '\\ue01d'\n",
    "    NUMPAD4 = '\\ue01e'\n",
    "    NUMPAD5 = '\\ue01f'\n",
    "    NUMPAD6 = '\\ue020'\n",
    "    NUMPAD7 = '\\ue021'\n",
    "    NUMPAD8 = '\\ue022'\n",
    "    NUMPAD9 = '\\ue023'\n",
    "    MULTIPLY = '\\ue024'\n",
    "    ADD = '\\ue025'\n",
    "    SEPARATOR = '\\ue026'\n",
    "    SUBTRACT = '\\ue027'\n",
    "    DECIMAL = '\\ue028'\n",
    "    DIVIDE = '\\ue029'\n",
    "\n",
    "    F1 = '\\ue031'  # function  keys\n",
    "    F2 = '\\ue032'\n",
    "    F3 = '\\ue033'\n",
    "    F4 = '\\ue034'\n",
    "    F5 = '\\ue035'\n",
    "    F6 = '\\ue036'\n",
    "    F7 = '\\ue037'\n",
    "    F8 = '\\ue038'\n",
    "    F9 = '\\ue039'\n",
    "    F10 = '\\ue03a'\n",
    "    F11 = '\\ue03b'\n",
    "    F12 = '\\ue03c'\n",
    "\n",
    "    META = '\\ue03d'\n",
    "    COMMAND = '\\ue03d'\n",
    "```"
   ]
  },
  {
   "cell_type": "markdown",
   "metadata": {},
   "source": [
    "### 5.1. 텍스트 입력 지우기\n",
    "1. `Keys.BACKSPACE` 또는 `Keys.BACK_SPACE`를 사용한다.\n",
    "2. 전체를 지우려면 `Keys`가 아니라, 선택한 요소에서 `clear()` 함수를 호출한다.\n",
    "    + ex. search_box.clear()"
   ]
  },
  {
   "cell_type": "markdown",
   "metadata": {},
   "source": [
    "### 5.2. 파일 업로드\n",
    "1. 파일을 받는 `<input>`을 선택한 뒤, `send_keys(file_path)`를 호출한다.\n",
    "```\n",
    "upload = driver.find_element_by_tag('input')\n",
    "upload.send_keys(file_path)\n",
    "```"
   ]
  },
  {
   "cell_type": "markdown",
   "metadata": {},
   "source": [
    "---"
   ]
  },
  {
   "cell_type": "markdown",
   "metadata": {},
   "source": [
    "## 6. 상호작용"
   ]
  },
  {
   "cell_type": "markdown",
   "metadata": {},
   "source": [
    "### 6.1. 클릭하기 (click)\n",
    "+ 요소 선택후, `click()` 함수를 호출한다.\n",
    "\n",
    "```\n",
    "posting = driver.find_element_by_xpath('//*[@id=\"rso\"]/div[1]/div/div[1]/a/h3/span')\n",
    "posting.click()\n",
    "```"
   ]
  },
  {
   "cell_type": "markdown",
   "metadata": {},
   "source": [
    "### 6.2. 옵션 선택 및 제출 (submit)\n",
    "+ XPath등으로 `select` 요소를 선택한 다음 각 옵션을 선택할 수 있지만, 더 좋은 방법이 있다."
   ]
  },
  {
   "cell_type": "raw",
   "metadata": {},
   "source": [
    "from selenium.webdriver.support.ui import Select\n",
    "\n",
    "select = Select(driver.find_element_by_name(\"select_name\"))\n",
    "\n",
    "select.select_by_index(index=2)\n",
    "select.select_by_visible_text(text=\"option_text\")\n",
    "select.select_by_value(value=\"고리오\")"
   ]
  },
  {
   "cell_type": "markdown",
   "metadata": {},
   "source": [
    "+ selenium.webdriver.support.ui.Select는 select 요소를 선택하여 쉽게 다룰 수 있도록 한다.\n",
    "+ 위 코드에서 볼 수 있듯이 select 내에서 인덱스로 선택하거나, 옵션의 텍스트, 혹은 어떤 값을 통해 선택이 가능하다."
   ]
  },
  {
   "cell_type": "raw",
   "metadata": {},
   "source": [
    "# 특정 선택을 해제\n",
    "select.deselect_by_index(index=2)\n",
    "select.deselect_by_visible_text(text=\"option_text\")\n",
    "select.deselect_by_value(value='고리오')\n",
    "\n",
    "# 전부 해제\n",
    "select.deselect_all()"
   ]
  },
  {
   "cell_type": "markdown",
   "metadata": {},
   "source": [
    "+ 선택된 옵션 리스트를 얻으려면 `select.all_selected_options`으로 얻을 수 있다. \n",
    "+ 첫 번째 선택된 옵션은 `select.first_selected_option`, 가능한 옵션을 모두 보려면 `select.options`를 사용하면 된다."
   ]
  },
  {
   "cell_type": "markdown",
   "metadata": {},
   "source": [
    "+ 제출(submit)하려면 요소를 찾은 뒤 `click()`을 수행해도 되지만, 다음과 같이 써도 된다."
   ]
  },
  {
   "cell_type": "raw",
   "metadata": {},
   "source": [
    "submit_btn.submit()"
   ]
  },
  {
   "cell_type": "markdown",
   "metadata": {},
   "source": [
    "+ 만약 선택한 요소가 form 형식이 아니라면 `NoSuchElementException` 오류를 볼 수 있을 것이다."
   ]
  },
  {
   "cell_type": "markdown",
   "metadata": {},
   "source": [
    "### 6.3. Drag and Drop\n",
    "+ 어떤 일련의 동작을 수행하기 위해서는 `ActionChains`를 사용하면 된다. \n",
    "+ `source` 요소에서 `target` 요소로 `Drag & Drop`을 수행한다고 하자"
   ]
  },
  {
   "cell_type": "raw",
   "metadata": {},
   "source": [
    "from selenium.webdriver import ActionChains\n",
    "\n",
    "action_chains = ActionChains(driver)\n",
    "action_chains.drag_and_drop(source, target).perform()"
   ]
  },
  {
   "cell_type": "markdown",
   "metadata": {},
   "source": [
    "### 6.4. Window/Frame 이동\n",
    "+ 최신 웹 페이지에서는 frame 같은 것을 잘 사용하지 않는다.\n",
    "+ 그러나 `예전에 만들어진 사이트`라면 `frame`을 사용한 경우가 있다.\n",
    "+ 이렇게 frame 안에 들어 있는 요소는 find_element 함수를 써도 그냥 찾아지지 않는다. \n",
    "+ find_element 함수는 frame 내에 있는 요소를 찾아주지 못한다.\n",
    "+ 그래서 `특정 frame으로 이동`해야 할 때가 있다."
   ]
  },
  {
   "cell_type": "raw",
   "metadata": {},
   "source": [
    "driver.switch_to_frame(\"frameName\")\n",
    "driver.switch_to_window(\"windowName\")\n",
    "\n",
    "# frame 내 subframe으로도 접근이 가능하다. 점(.)을 쓰자.\n",
    "driver.switch_to_frame(\"frameName.0.child\")"
   ]
  },
  {
   "cell_type": "markdown",
   "metadata": {},
   "source": [
    "+ windowName을 알고 싶다면 다음과 같은 링크가 있는지 살펴보자."
   ]
  },
  {
   "cell_type": "raw",
   "metadata": {},
   "source": [
    "<a href=\"somewhere.html\" target=\"windowName\">Click here to open a new window</a>"
   ]
  },
  {
   "cell_type": "markdown",
   "metadata": {},
   "source": [
    "+ 혹은 webdriver는 window 목록에 접근할 수 있기 때문에, 다음과 같이 모든 window를 순회하는 것도 가능하다."
   ]
  },
  {
   "cell_type": "raw",
   "metadata": {},
   "source": [
    "for handle in driver.window_handles:\n",
    "    driver.switch_to_window(handle)"
   ]
  },
  {
   "cell_type": "markdown",
   "metadata": {},
   "source": [
    "+ frame 밖으로 나가려면 다음과 같이 쓰면 기본 frame으로 되돌아간다."
   ]
  },
  {
   "cell_type": "raw",
   "metadata": {},
   "source": [
    "driver.switch_to_default_content()"
   ]
  },
  {
   "cell_type": "markdown",
   "metadata": {},
   "source": [
    "+ 경고창으로 이동할 수도 있다."
   ]
  },
  {
   "cell_type": "raw",
   "metadata": {},
   "source": [
    "alert = driver.switch_to.alert"
   ]
  },
  {
   "cell_type": "markdown",
   "metadata": {},
   "source": [
    "---"
   ]
  },
  {
   "cell_type": "markdown",
   "metadata": {},
   "source": [
    "## 7. JavaScript 코드 실행\n",
    "+ `driver.execute_script()` 함수를 실행할 수 있다."
   ]
  },
  {
   "cell_type": "markdown",
   "metadata": {},
   "source": [
    "+ 아래는 Name이 `search_box`인 요소의 값을 query의 값으로 변경하는 코드이다."
   ]
  },
  {
   "cell_type": "raw",
   "metadata": {},
   "source": [
    "driver.execute_script(\"document.getElementsByName('id')[0].value=\\'\"+query+\"\\'\")"
   ]
  },
  {
   "cell_type": "markdown",
   "metadata": {},
   "source": [
    "---"
   ]
  },
  {
   "cell_type": "markdown",
   "metadata": {},
   "source": [
    "## 8. 브라우저 창 다루기"
   ]
  },
  {
   "cell_type": "markdown",
   "metadata": {},
   "source": [
    "### 8.1. 뒤로가기, 앞으로 가기\n",
    "+ 브라우저는 뒤로가기(`back`)와 앞으로 가기(`forward`) 기능을 제공한다. 이를 selenium으로 구현이 가능하다."
   ]
  },
  {
   "cell_type": "raw",
   "metadata": {},
   "source": [
    "driver.forward()\n",
    "driver.back()"
   ]
  },
  {
   "cell_type": "markdown",
   "metadata": {},
   "source": [
    "### 8.2. 화면 이동 (맨 밑으로 내려가기 등)\n",
    "+ 크롤링을 하다 보면 화면의 끝으로 내려가야 내용이 동적으로 추가되는 경우를 자주 볼 수 있다.\n",
    "+ 이런 경우에는 웹페이지의 최하단으로 내려가는 코드를 실행할 필요가 있다."
   ]
  },
  {
   "cell_type": "raw",
   "metadata": {},
   "source": [
    "driver.execute_script('window.scrollTo(0, document.body.scrollHeight);')"
   ]
  },
  {
   "cell_type": "markdown",
   "metadata": {},
   "source": [
    "+ 물론 전체를 내려가야 할 필요가 없다면 `document.body.scrollHeight)` 대신 지정된 값만큼 이동해도 된다."
   ]
  },
  {
   "cell_type": "markdown",
   "metadata": {},
   "source": [
    "+ 특정 요소까지 계속 찾으려면 `ActionChain`을 써도 된다."
   ]
  },
  {
   "cell_type": "raw",
   "metadata": {},
   "source": [
    "from selenium.webdriver import ActionChains\n",
    "\n",
    "some_tag = driver.find_element_by_id('gorio')\n",
    "\n",
    "ActionChains(driver).move_to_element(some_tag).perform()"
   ]
  },
  {
   "cell_type": "markdown",
   "metadata": {},
   "source": [
    "### 8.3. 브라우저 최소화/최대화"
   ]
  },
  {
   "cell_type": "raw",
   "metadata": {},
   "source": [
    "driver.minimize_window()\n",
    "driver.maximize_window()"
   ]
  },
  {
   "cell_type": "markdown",
   "metadata": {},
   "source": [
    "### 8.4. 스크린샷 저장"
   ]
  },
  {
   "cell_type": "raw",
   "metadata": {},
   "source": [
    "driver.save_screenshot('screenshot.png')"
   ]
  },
  {
   "cell_type": "markdown",
   "metadata": {},
   "source": [
    "### 8.5. Headless 설정\n",
    "+ 브라우저 창을 띄우지 않고 수행하는 방법"
   ]
  },
  {
   "cell_type": "markdown",
   "metadata": {},
   "source": [
    "### 8.6. 브라우저 크기 설정\n",
    "+ 브라우저의 창 크기, 해당 기기의 정보 등을 설정할 수 있다.\n",
    "+ 기본적인 사용법은 다음과 같다. 브라우저가 실행될 때 창 크기를 설정할 수 있다."
   ]
  },
  {
   "cell_type": "code",
   "execution_count": 9,
   "metadata": {},
   "outputs": [],
   "source": [
    "options = webdriver.ChromeOptions()\n",
    "options.add_argument('window-size=1500,1000')\n",
    "\n",
    "driver = webdriver.Chrome('./chromedriver', options=options)\n",
    "\n",
    "time.sleep(3)\n",
    "driver.close()"
   ]
  },
  {
   "cell_type": "markdown",
   "metadata": {},
   "source": [
    "+ 다른 기능들은 여기에 적어 두었다. 코드를 보면 역할을 짐작할 수 있을 것이다."
   ]
  },
  {
   "cell_type": "raw",
   "metadata": {},
   "source": [
    "options.add_argument('headless')\n",
    "options.add_argument('window-size=1920x1080')\n",
    "options.add_argument('disable-gpu')\n",
    "\n",
    "options.add_argument('start-maximized')\n",
    "options.add_argument('disable-infobars')\n",
    "options.add_argument('--disable-extensions')\n",
    "\n",
    "options.add_experimental_option('excludeSwitches', ['enable-automation'])\n",
    "options.add_experimental_option('useAutomationExtension', False)\n",
    "options.add_argument('--disable-blink-features=AutomationControlled')\n",
    "\n",
    "options.add_experimental_option('debuggerAddress', '127.0.0.1:9222')"
   ]
  },
  {
   "cell_type": "markdown",
   "metadata": {},
   "source": [
    "---"
   ]
  },
  {
   "cell_type": "markdown",
   "metadata": {},
   "source": [
    "## 9. ActionChains (마우스, 키보드 입력 등 연속 동작 실행)"
   ]
  },
  {
   "cell_type": "raw",
   "metadata": {},
   "source": [
    "from selenium.webdriver import ActionChains\n",
    "\n",
    "menu = driver.find_element_by_css_selector(\".nav\")\n",
    "hidden_submenu = driver.find_element_by_css_selector('.nav #submenu1')\n",
    "\n",
    "ActionChain(driver).move_to_element(menu).click(hidden_submenu).perform()\n",
    "\n",
    "# 아래는 위의 'ActionChain(driver).move_to_element(menu).click(hidden_submenu).perform()'과 동일한 코드\n",
    "actions = ActionChain(driver)\n",
    "actions.move_to_element(menu)\n",
    "actions.click(hidden_submenu)\n",
    "actions.perform()"
   ]
  },
  {
   "cell_type": "markdown",
   "metadata": {},
   "source": [
    "마우스 클릭, Drag&Drop, 키보드 입력 등을 연속적으로 수행할 수 있다.\n",
    "+ `on_element` 인자를 받는 함수는, 해당 인자가 주어지지 않으면 현재 마우스 위치를 기준으로 한다.\n",
    "+ `element` 인자를 받는 함수는, 해당 인자가 주어지지 않으면 현재 선택 되어 있는 요소를 기준으로 한다.\n",
    "+ `key_down`, `key_up` 함수는 `ctrl`등의 키를 누를 때 쓰면 된다."
   ]
  },
  {
   "cell_type": "raw",
   "metadata": {},
   "source": [
    "ActionChain(driver).key_down(Keys.CONTROL).send_keys(\"c\").key_up(Keys.CONTROL).perform()"
   ]
  },
  {
   "cell_type": "markdown",
   "metadata": {},
   "source": [
    "|동작 수행 함수                                                |설명                                                                      |\n",
    "|:---------------------------------------------------------:|:-----------------------------------------------------------------------:|\n",
    "|click(on_element=None)\t            \t                    |인자로 주어진 요소를 왼쪽 클릭한다.                                              |\n",
    "|click_and_hold(on_element=None)\t\t                    |인자로 주어진 요소를 왼쪽 클릭하고 누르고 있는다.                                  |\n",
    "|release(on_element=None)\t                                |마우스를 주어진 요소에서 뗀다.                                                  |\n",
    "|context_click(on_element=None)\t\t                        |인자로 주어진 요소를 오른쪽 클릭한다.                                            |\n",
    "|double_click(on_element=None)\t\t                        |인자로 주어진 요소를 왼쪽 더블클릭한다.                                           |\n",
    "|drag_and_drop(source, target)\t\t                        |source 요소에서 마우스 왼쪽 클릭하여 계속 누른 채로 target까지 이동한 뒤 마우스를 놓는다.|\n",
    "|drag_and_drop_by_offset(source, xoffset, yoffset)          |위와 비슷하지만 offset만큼 이동하여 마우스를 놓는다.                               |\n",
    "|key_down(value, element=None)\t\t                        |value로 주어진 키를 누르고 떼지 않는다.                                         |\n",
    "|key_up(value, element=None)\t\t                        |value로 주어진 키를 뗀다.                                                     |\n",
    "|move_to_element(to_element)\t \t                        |마우스를 해당 요소의 중간 위치로 이동한다.                                        |\n",
    "|move_to_element_with_offset(to_element, xoffset, yoffset)\t|마우스를 해당 요소에서 offset만큼 이동한 위치로 이동한다.                           |\n",
    "|pause(seconds)\t                                            |주어진 시간(초 단위)만큼 입력을 중지한다.                                         |\n",
    "|perform()                                                  |이미 쌓여 있는(stored) 모든 행동을 수행한다(chaining).                           |\n",
    "|reset_actions()\t                                        |이미 쌓여 있는(stored) 모든 행동을 제거한다.                                     |\n",
    "|send_keys(*keys_to_send)\t                                |키보드 입력을 현재 focused된 요소에 보낸다.                                      |\n",
    "|send_keys_to_element(element, *keys_to_send)\t            |키보드 입력을 주어진 요소에 보낸다.                                              |"
   ]
  },
  {
   "cell_type": "markdown",
   "metadata": {},
   "source": [
    "---"
   ]
  },
  {
   "cell_type": "markdown",
   "metadata": {},
   "source": [
    "## 10. 경고 창 다루기 (alerts)"
   ]
  },
  {
   "cell_type": "markdown",
   "metadata": {},
   "source": [
    "+ 브라우저를 사용하다보면 상단에 `경고창`이 뜰 때가 있다. (확인/취소 등)\n",
    "+ 이 경고창을 `무시`하는 등의 처리를 할 수 있는 기능을 제공한다.\n",
    "+ 아래 코드는 경고창에서 수락/거절을 누르거나, 경고창의 내용을 출력, 혹은 경고창에 특정 키 입력을 보낼 수 있다."
   ]
  },
  {
   "cell_type": "raw",
   "metadata": {},
   "source": [
    "from selenium.webdriver.common.alert import Alert\n",
    "\n",
    "Alert(driver).accept()\n",
    "Alert(driver).dismiss()\n",
    "\n",
    "print(Alert(driver).text)\n",
    "Alert(driver).send_keys(keysToSend=Keys.ESCAPE)"
   ]
  },
  {
   "cell_type": "markdown",
   "metadata": {},
   "source": [
    "## 11. 기타 기능\n",
    "\n",
    "1. `Touch Actions` : 마우스/키보드 입력과 비슷하게 chaining이 가능하고 터치와 관련한 여러 기능을 제공\n",
    "<br>   (`selenium.webdriver.common.touch_actions.TouchActions`) </br>\n",
    "2. `Proxy` : Proxy 기능을 사용할 수 있다.\n",
    "<br> (`selenium.webdriver.common.proxy.Proxy`)</br>\n",
    "3. `쿠키(Cookie)` : 쿠키를 추가하거나 카져올 수 있다."
   ]
  },
  {
   "cell_type": "raw",
   "metadata": {},
   "source": [
    "# Go to the correct domain\n",
    "driver.get(\"http://www.example.com\")\n",
    "\n",
    "# Now set the cookie. This one's valid for the entire domain\n",
    "cookie = {'name' : 'foo', 'value' : 'bar'}\n",
    "driver.add_cookie(cookie)\n",
    "\n",
    "# And now output all the available cookies for the current URL\n",
    "driver.get_cookie()"
   ]
  },
  {
   "cell_type": "markdown",
   "metadata": {},
   "source": [
    "## 12. References"
   ]
  },
  {
   "cell_type": "code",
   "execution_count": null,
   "metadata": {},
   "outputs": [],
   "source": []
  }
 ],
 "metadata": {
  "kernelspec": {
   "display_name": "crawling",
   "language": "python",
   "name": "crawling"
  },
  "language_info": {
   "codemirror_mode": {
    "name": "ipython",
    "version": 3
   },
   "file_extension": ".py",
   "mimetype": "text/x-python",
   "name": "python",
   "nbconvert_exporter": "python",
   "pygments_lexer": "ipython3",
   "version": "3.7.10"
  },
  "toc-autonumbering": false,
  "toc-showcode": true
 },
 "nbformat": 4,
 "nbformat_minor": 4
}
