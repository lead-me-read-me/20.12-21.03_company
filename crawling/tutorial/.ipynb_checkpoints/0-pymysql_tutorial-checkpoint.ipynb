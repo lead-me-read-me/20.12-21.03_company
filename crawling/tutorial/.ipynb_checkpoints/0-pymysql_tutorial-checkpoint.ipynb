{
 "cells": [
  {
   "cell_type": "markdown",
   "metadata": {},
   "source": [
    "[참고사이트](https://yurimkoo.github.io/python/2019/09/14/connect-db-with-python.html)"
   ]
  },
  {
   "cell_type": "code",
   "execution_count": 33,
   "metadata": {},
   "outputs": [],
   "source": [
    "import pymysql\n",
    "import pandas as pd"
   ]
  },
  {
   "cell_type": "markdown",
   "metadata": {},
   "source": [
    "# DB 연결"
   ]
  },
  {
   "cell_type": "code",
   "execution_count": 2,
   "metadata": {},
   "outputs": [],
   "source": [
    "local_db = pymysql.connect(\n",
    "    user='root',\n",
    "    passwd='DKrmemf!@34',\n",
    "    host=\"127.0.0.1\",\n",
    "    db=\"test_db\",\n",
    "    charset='utf8'\n",
    ")"
   ]
  },
  {
   "cell_type": "markdown",
   "metadata": {},
   "source": [
    "---"
   ]
  },
  {
   "cell_type": "markdown",
   "metadata": {},
   "source": [
    "# cursor 설정\n",
    "1. `cursor()` : `연결한 DB와 상호작용`하는 `cursor객체`를 생성한다.\n",
    "2. DB의 데이터를 Dict형태로 가져오는 `DictCursor`를 사용\n",
    "    + Python에서 데이터 분석시 `pandas`를 이용  \n",
    "    + 관계형 데이터베이스 시스템(`RDBMS`)를 주로 사용\n",
    "3. cursor 객체의 SQL문 실행문(`cursor.execute(sql)`) 이후 메서드\n",
    "    + fetchall()  : 모든 데이터를 한번에 가져올때 사용\n",
    "    + fetchone()  : 한 번 호출에 하나의 행만 가져올 때 사용\n",
    "    + fetchmany(n): n개만큼의 데이터를 가져올 때 사용"
   ]
  },
  {
   "cell_type": "code",
   "execution_count": 3,
   "metadata": {},
   "outputs": [],
   "source": [
    "cursor = local_db.cursor(pymysql.cursors.DictCursor) # local_db와 상호작용하는 cursor객체를 생성"
   ]
  },
  {
   "cell_type": "code",
   "execution_count": 5,
   "metadata": {},
   "outputs": [
    {
     "name": "stdout",
     "output_type": "stream",
     "text": [
      "<class 'list'>\n",
      "<class 'dict'>\n",
      "[{'id': 45, 'name': 'LEE'}, {'id': 46, 'name': 'LEE'}, {'id': 47, 'name': 'Park'}, {'id': 48, 'name': 'Park'}, {'id': 49, 'name': 'Park'}, {'id': 51, 'name': 'JONG WITH ID > 50'}, {'id': 52, 'name': 'JONG WITH ID > 50'}, {'id': 53, 'name': 'JONG WITH ID > 50'}]\n",
      "   id               name\n",
      "0  45                LEE\n",
      "1  46                LEE\n",
      "2  47               Park\n",
      "3  48               Park\n",
      "4  49               Park\n",
      "5  51  JONG WITH ID > 50\n",
      "6  52  JONG WITH ID > 50\n",
      "7  53  JONG WITH ID > 50\n"
     ]
    }
   ],
   "source": [
    "sql = \"SELECT * FROM test_table\"\n",
    "cursor.execute(sql)\n",
    "result = cursor.fetchall()\n",
    "\n",
    "print(type(result))\n",
    "print(type(result[0]))\n",
    "print(result)\n",
    "print(pd.DataFrame(result))"
   ]
  },
  {
   "cell_type": "code",
   "execution_count": 16,
   "metadata": {},
   "outputs": [
    {
     "name": "stdout",
     "output_type": "stream",
     "text": [
      "   id  name\n",
      "0  45   LEE\n",
      "1  46   LEE\n",
      "2  47  Park\n",
      "3  48  Park\n",
      "4  49  Park\n"
     ]
    },
    {
     "data": {
      "text/html": [
       "<div>\n",
       "<style scoped>\n",
       "    .dataframe tbody tr th:only-of-type {\n",
       "        vertical-align: middle;\n",
       "    }\n",
       "\n",
       "    .dataframe tbody tr th {\n",
       "        vertical-align: top;\n",
       "    }\n",
       "\n",
       "    .dataframe thead th {\n",
       "        text-align: right;\n",
       "    }\n",
       "</style>\n",
       "<table border=\"1\" class=\"dataframe\">\n",
       "  <thead>\n",
       "    <tr style=\"text-align: right;\">\n",
       "      <th></th>\n",
       "      <th>id</th>\n",
       "      <th>name</th>\n",
       "    </tr>\n",
       "  </thead>\n",
       "  <tbody>\n",
       "    <tr>\n",
       "      <th>0</th>\n",
       "      <td>45</td>\n",
       "      <td>LEE</td>\n",
       "    </tr>\n",
       "    <tr>\n",
       "      <th>1</th>\n",
       "      <td>46</td>\n",
       "      <td>LEE</td>\n",
       "    </tr>\n",
       "    <tr>\n",
       "      <th>2</th>\n",
       "      <td>47</td>\n",
       "      <td>Park</td>\n",
       "    </tr>\n",
       "    <tr>\n",
       "      <th>3</th>\n",
       "      <td>48</td>\n",
       "      <td>Park</td>\n",
       "    </tr>\n",
       "    <tr>\n",
       "      <th>4</th>\n",
       "      <td>49</td>\n",
       "      <td>Park</td>\n",
       "    </tr>\n",
       "  </tbody>\n",
       "</table>\n",
       "</div>"
      ],
      "text/plain": [
       "   id  name\n",
       "0  45   LEE\n",
       "1  46   LEE\n",
       "2  47  Park\n",
       "3  48  Park\n",
       "4  49  Park"
      ]
     },
     "execution_count": 16,
     "metadata": {},
     "output_type": "execute_result"
    }
   ],
   "source": [
    "result2df = pd.DataFrame(result)\n",
    "print(result2df)\n",
    "result2df.head()"
   ]
  },
  {
   "cell_type": "markdown",
   "metadata": {},
   "source": [
    "---"
   ]
  },
  {
   "cell_type": "markdown",
   "metadata": {},
   "source": [
    "# 데이터 처리"
   ]
  },
  {
   "cell_type": "markdown",
   "metadata": {},
   "source": [
    "## 삽입(INSERT), 변경(UPDATE), 삭제(DELETE)"
   ]
  },
  {
   "cell_type": "markdown",
   "metadata": {},
   "source": [
    "### INSERT"
   ]
  },
  {
   "cell_type": "code",
   "execution_count": 22,
   "metadata": {},
   "outputs": [],
   "source": [
    "sql = \\\n",
    "\"\"\"\n",
    "INSERT INTO test_table (id, name)\n",
    "VALUE (0, \"LEE\");\n",
    "\"\"\"\n",
    "\n",
    "cursor.execute(sql) # sql문을 실행한다.\n",
    "local_db.commit()   # 결과가 DB에 반영된다."
   ]
  },
  {
   "cell_type": "code",
   "execution_count": 35,
   "metadata": {},
   "outputs": [
    {
     "name": "stdout",
     "output_type": "stream",
     "text": [
      "{'id': 45, 'name': 'LEE'}\n"
     ]
    }
   ],
   "source": [
    "cursor.execute(\"SELECT * FROM test_table;\")\n",
    "# print(cursor.fetchall())\n",
    "print(cursor.fetchone())"
   ]
  },
  {
   "cell_type": "code",
   "execution_count": 48,
   "metadata": {},
   "outputs": [
    {
     "name": "stdout",
     "output_type": "stream",
     "text": [
      "Empty DataFrame\n",
      "Columns: []\n",
      "Index: [0]\n"
     ]
    }
   ],
   "source": [
    "print(pd.DataFrame(cursor.fetchone(), index=[0]))"
   ]
  },
  {
   "cell_type": "markdown",
   "metadata": {},
   "source": [
    "### UPDATE"
   ]
  },
  {
   "cell_type": "code",
   "execution_count": 6,
   "metadata": {},
   "outputs": [
    {
     "name": "stdout",
     "output_type": "stream",
     "text": [
      "   id               name\n",
      "0  45                LEE\n",
      "1  46                LEE\n",
      "2  47               Park\n",
      "3  48               Park\n",
      "4  49               Park\n",
      "5  51  JONG WITH ID > 50\n",
      "6  52  JONG WITH ID > 50\n",
      "7  53  JONG WITH ID > 50\n"
     ]
    }
   ],
   "source": [
    "sql = \\\n",
    "\"\"\"\n",
    "SELECT * FROM test_table\n",
    "\"\"\"\n",
    "\n",
    "cursor.execute(sql)\n",
    "print(pd.DataFrame(cursor.fetchall()))"
   ]
  },
  {
   "cell_type": "code",
   "execution_count": 7,
   "metadata": {},
   "outputs": [
    {
     "data": {
      "text/plain": [
       "5"
      ]
     },
     "execution_count": 7,
     "metadata": {},
     "output_type": "execute_result"
    }
   ],
   "source": [
    "sql = \\\n",
    "\"\"\"\n",
    "UPDATE test_table\n",
    "SET name='Kim WITH ID < 50'\n",
    "WHERE id < 50;\n",
    "\"\"\"\n",
    "\n",
    "cursor.execute(sql)\n",
    "# local_db.commit()"
   ]
  },
  {
   "cell_type": "code",
   "execution_count": 8,
   "metadata": {},
   "outputs": [
    {
     "name": "stdout",
     "output_type": "stream",
     "text": [
      "   id               name\n",
      "0  45   Kim WITH ID < 50\n",
      "1  46   Kim WITH ID < 50\n",
      "2  47   Kim WITH ID < 50\n",
      "3  48   Kim WITH ID < 50\n",
      "4  49   Kim WITH ID < 50\n",
      "5  51  JONG WITH ID > 50\n",
      "6  52  JONG WITH ID > 50\n",
      "7  53  JONG WITH ID > 50\n"
     ]
    }
   ],
   "source": [
    "sql = \\\n",
    "\"\"\"\n",
    "SELECT * FROM test_table\n",
    "\"\"\"\n",
    "\n",
    "cursor.execute(sql)\n",
    "print(pd.DataFrame(cursor.fetchall()))"
   ]
  },
  {
   "cell_type": "code",
   "execution_count": 9,
   "metadata": {},
   "outputs": [],
   "source": [
    "local_db.commit()"
   ]
  },
  {
   "cell_type": "markdown",
   "metadata": {},
   "source": [
    "### DELETE"
   ]
  },
  {
   "cell_type": "code",
   "execution_count": 10,
   "metadata": {},
   "outputs": [
    {
     "name": "stdout",
     "output_type": "stream",
     "text": [
      "   id               name\n",
      "0  45   Kim WITH ID < 50\n",
      "1  46   Kim WITH ID < 50\n",
      "2  47   Kim WITH ID < 50\n",
      "3  48   Kim WITH ID < 50\n",
      "4  49   Kim WITH ID < 50\n",
      "5  51  JONG WITH ID > 50\n",
      "6  52  JONG WITH ID > 50\n",
      "7  53  JONG WITH ID > 50\n"
     ]
    }
   ],
   "source": [
    "sql = \\\n",
    "\"\"\"\n",
    "SELECT * FROM test_table\n",
    "\"\"\"\n",
    "cursor.execute(sql)\n",
    "print(pd.DataFrame(cursor.fetchall()))"
   ]
  },
  {
   "cell_type": "code",
   "execution_count": 11,
   "metadata": {},
   "outputs": [
    {
     "data": {
      "text/plain": [
       "4"
      ]
     },
     "execution_count": 11,
     "metadata": {},
     "output_type": "execute_result"
    }
   ],
   "source": [
    "sql = \\\n",
    "\"\"\"\n",
    "DELETE FROM test_table\n",
    "WHERE id BETWEEN 47 AND 51\n",
    "\"\"\"\n",
    "\n",
    "cursor.execute(sql)"
   ]
  },
  {
   "cell_type": "code",
   "execution_count": 15,
   "metadata": {},
   "outputs": [
    {
     "name": "stdout",
     "output_type": "stream",
     "text": [
      "   id               name\n",
      "0  45   Kim WITH ID < 50\n",
      "1  46   Kim WITH ID < 50\n",
      "2  52  JONG WITH ID > 50\n",
      "3  53  JONG WITH ID > 50\n"
     ]
    }
   ],
   "source": [
    "sql = \\\n",
    "\"\"\"\n",
    "SELECT * FROM test_table\n",
    "\"\"\"\n",
    "cursor.execute(sql)\n",
    "print(pd.DataFrame(cursor.fetchall()))"
   ]
  },
  {
   "cell_type": "code",
   "execution_count": 14,
   "metadata": {},
   "outputs": [],
   "source": [
    "local_db.commit()"
   ]
  },
  {
   "cell_type": "markdown",
   "metadata": {},
   "source": [
    "+ commit `전에 실행했던 SQL문을 취소`하려면 어떻게?"
   ]
  },
  {
   "cell_type": "markdown",
   "metadata": {},
   "source": [
    "---"
   ]
  },
  {
   "cell_type": "markdown",
   "metadata": {},
   "source": [
    "# Placeholder 사용하기"
   ]
  },
  {
   "cell_type": "markdown",
   "metadata": {},
   "source": [
    "## TIP. execute() / executemany() 에 placeholder 사용?\n",
    "1. Q. 만약 DB내의 데이터에 대해 `대량` 삽입/변경/삭제가 필요한데, `조건이 모두 다르다면`?\n",
    "2. A. `Placeholder`를 사용한다!\n",
    "3. 이용방식\n",
    "    + execute(sql, a_data)\n",
    "    + executemany(sql, multiple_data)\n",
    "    + 단, sql문은 `%s`등을 이용하여 동적값이 들어가게 만듬. (일반적인 문자열에 들어가는 %s와는 다르다.)\n",
    "4. 장점\n",
    "    + `반복문 + execute()`보다 속도, 메모리면에서 훨씬 뛰어나다."
   ]
  },
  {
   "cell_type": "markdown",
   "metadata": {},
   "source": [
    "### execute()"
   ]
  },
  {
   "cell_type": "code",
   "execution_count": 17,
   "metadata": {},
   "outputs": [
    {
     "name": "stdout",
     "output_type": "stream",
     "text": [
      "   id              name\n",
      "0  45  Kim WITH ID < 50\n",
      "\n",
      "\n",
      "   id               name\n",
      "0  46   Kim WITH ID < 50\n",
      "1  52  JONG WITH ID > 50\n",
      "2  53  JONG WITH ID > 50\n"
     ]
    }
   ],
   "source": [
    "a_data = (45, \"KIM WITH ID < 50\")\n",
    "\n",
    "# SELECT\n",
    "sql = \"\"\"SELECT * FROM test_table WHERE id=%s AND name=%s;\"\"\"\n",
    "cursor.execute(sql, a_data)\n",
    "print(pd.DataFrame(cursor.fetchall(), index=[0]), end=\"\\n\\n\\n\")\n",
    "\n",
    "# DELETE\n",
    "sql = \"\"\"DELETE FROM test_table WHERE id=%s AND name=%s\"\"\"\n",
    "cursor.execute(sql, a_data)\n",
    "sql = \"\"\"SELECT * FROM test_table;\"\"\"\n",
    "cursor.execute(sql)\n",
    "print(pd.DataFrame(cursor.fetchall()))\n",
    "\n",
    "# local_db.commit()"
   ]
  },
  {
   "cell_type": "markdown",
   "metadata": {},
   "source": [
    "### executemany()"
   ]
  },
  {
   "cell_type": "code",
   "execution_count": 29,
   "metadata": {},
   "outputs": [
    {
     "name": "stdout",
     "output_type": "stream",
     "text": [
      "   id  name\n",
      "0   1  SUNG\n",
      "1   2   GUI\n",
      "2   3  JANG\n",
      "3  46  SUNG\n",
      "4  52   GUI\n",
      "5  53  JANG\n"
     ]
    }
   ],
   "source": [
    "sql = \"\"\"SELECT * FROM test_table;\"\"\"\n",
    "cursor.execute(sql)\n",
    "print(pd.DataFrame(cursor.fetchall()))"
   ]
  },
  {
   "cell_type": "code",
   "execution_count": 31,
   "metadata": {},
   "outputs": [
    {
     "name": "stdout",
     "output_type": "stream",
     "text": [
      "   id  name\n",
      "0  46  SUNG\n",
      "1  52   GUI\n",
      "2  53  JANG\n",
      "\n",
      "\n",
      "   id  name\n",
      "0   1  SUNG\n",
      "1   2   GUI\n",
      "2   3  JANG\n",
      "3  46  SUNG\n",
      "4  52   GUI\n",
      "5  53  JANG\n",
      "\n",
      "\n",
      "   id  name\n",
      "0   1  SUNG\n",
      "1   2   GUI\n",
      "2   3  JANG\n",
      "3  46   SUN\n",
      "4  52   GUI\n",
      "5  53  JANG\n"
     ]
    }
   ],
   "source": [
    "datas = [[1, \"SUNG\"], [2, \"GUI\"], [3, \"JANG\"]]\n",
    "\n",
    "## DELETE\n",
    "sql = \"DELETE FROM test_table WHERE id=%s AND name=%s\"\n",
    "cursor.executemany(sql, datas)\n",
    "sql = \"\"\"SELECT * FROM test_table;\"\"\"\n",
    "cursor.execute(sql)\n",
    "print(pd.DataFrame(cursor.fetchall()), end=\"\\n\\n\\n\")\n",
    "\n",
    "## INSERT\n",
    "sql = \"INSERT INTO test_table(id, name) VALUES (%s, %s)\"\n",
    "cursor.executemany(sql, datas)\n",
    "sql = \"\"\"SELECT * FROM test_table;\"\"\"\n",
    "cursor.execute(sql)\n",
    "print(pd.DataFrame(cursor.fetchall()), end=\"\\n\\n\\n\")\n",
    "# local_db.commit()\n",
    "\n",
    "datas = [[46, \"SUN\"], [52, \"GUI\"], [53, \"JANG\"]]\n",
    "datas = [data[::-1] for data in datas]\n",
    "## UPDATE\n",
    "sql = \"UPDATE test_table SET name=%s WHERE id=%s\"\n",
    "cursor.executemany(sql, datas)\n",
    "sql = \"SELECT * FROM test_table\"\n",
    "cursor.execute(sql)\n",
    "print(pd.DataFrame(cursor.fetchall()))"
   ]
  },
  {
   "cell_type": "code",
   "execution_count": 32,
   "metadata": {},
   "outputs": [
    {
     "name": "stdout",
     "output_type": "stream",
     "text": [
      "   id  name\n",
      "0   1  SUNG\n",
      "1   2   GUI\n",
      "2   3  JANG\n",
      "3  46   SUN\n",
      "4  52   GUI\n",
      "5  53  JANG\n"
     ]
    }
   ],
   "source": [
    "sql = \"SELECT * FROM test_table\"\n",
    "cursor.execute(sql)\n",
    "print(pd.DataFrame(cursor.fetchall()))"
   ]
  },
  {
   "cell_type": "code",
   "execution_count": 34,
   "metadata": {},
   "outputs": [],
   "source": [
    "local_db.close()"
   ]
  },
  {
   "cell_type": "markdown",
   "metadata": {},
   "source": [
    "---"
   ]
  },
  {
   "cell_type": "code",
   "execution_count": null,
   "metadata": {},
   "outputs": [],
   "source": [
    "connect_to_localhost = pymysql.connect(host='localhost', \n",
    "                                       user='root',\n",
    "                                       password='DKrmemf!@34',\n",
    "                                       db='test_db',\n",
    "                                       charset='utf8')"
   ]
  },
  {
   "cell_type": "code",
   "execution_count": null,
   "metadata": {},
   "outputs": [],
   "source": [
    "try :\n",
    "    cursor = connect_to_localhost.cursor(pymysql.cursors.DictCursor)\n",
    "    sql = \"SELECT * FROM test_table\"\n",
    "    cursor.execute(sql)\n",
    "    rows = cursor.fetchall()\n",
    "    \n",
    "    for row in rows :\n",
    "        print(row)\n",
    "        \n",
    "except Exception as e:\n",
    "    print(str(e))\n",
    "    \n",
    "finally :\n",
    "    connect_to_localhost.close()\n",
    "\n",
    "##\n",
    "# {'id': 45, 'name': 'Kim WITH ID < 50'}\n",
    "# {'id': 46, 'name': 'Kim WITH ID < 50'}\n",
    "# {'id': 52, 'name': 'JONG WITH ID > 50'}\n",
    "# {'id': 53, 'name': 'JONG WITH ID > 50'}"
   ]
  },
  {
   "cell_type": "code",
   "execution_count": null,
   "metadata": {},
   "outputs": [],
   "source": [
    "try :\n",
    "    cursor = connect_to_localhost.cursor(pymysql.cursors.DictCursor)\n",
    "    sql = \"INSERT INTO test_table(id, name) VALUES (%s, %s)\"\n",
    "    \n",
    "    cursor.execute(sql, (0, \"PEE\"))\n",
    "    cursor.execute(sql, (0, \"Yoo\"))\n",
    "    cursor.execute(sql, (0, \"Park\"))\n",
    "    \n",
    "    sql = \"SELECT * FROM test_table\"\n",
    "    cursor.execute(sql)\n",
    "    rows = cursor.fetchall()\n",
    "    \n",
    "    for row in rows :\n",
    "        print(row)\n",
    "        \n",
    "except Exception as e:\n",
    "    print(str(e))\n",
    "    \n",
    "finally :\n",
    "    connect_to_localhost.close()\n",
    "    \n",
    "##\n",
    "# {'id': 45, 'name': 'Kim WITH ID < 50'}\n",
    "# {'id': 46, 'name': 'Kim WITH ID < 50'}\n",
    "# {'id': 52, 'name': 'JONG WITH ID > 50'}\n",
    "# {'id': 53, 'name': 'JONG WITH ID > 50'}\n",
    "# {'id': 54, 'name': 'PEE'}\n",
    "# {'id': 55, 'name': 'Yoo'}\n",
    "# {'id': 56, 'name': 'Park'}"
   ]
  },
  {
   "cell_type": "code",
   "execution_count": null,
   "metadata": {},
   "outputs": [],
   "source": [
    "try :\n",
    "    cursor = connect_to_localhost.cursor(pymysql.cursors.DictCursor)\n",
    "    \n",
    "    sql = \"SELECT * FROM test_table\"\n",
    "    cursor.execute(sql)\n",
    "    print(pd.DataFrame(cursor.fetchall()), end=\"\\n\\n\\n\")\n",
    "    \n",
    "    sql = \"UPDATE test_table SET name='Kim' WHERE id < 50\"\n",
    "    cursor.execute(sql)\n",
    "    \n",
    "    sql = \"SELECT * FROM test_table\"\n",
    "    cursor.execute(sql)\n",
    "    print(pd.DataFrame(cursor.fetchall()))\n",
    "    \n",
    "except Exception as e :\n",
    "    print(str(e))\n",
    "finally :\n",
    "    connect_to_localhost.close()\n",
    "    \n",
    "\n",
    "##\n",
    "#    id               name\n",
    "# 0  45   Kim WITH ID < 50\n",
    "# 1  46   Kim WITH ID < 50\n",
    "# 2  52  JONG WITH ID > 50\n",
    "# 3  53  JONG WITH ID > 50\n",
    "\n",
    "\n",
    "#    id               name\n",
    "# 0  45                Kim\n",
    "# 1  46                Kim\n",
    "# 2  52  JONG WITH ID > 50\n",
    "# 3  53  JONG WITH ID > 50"
   ]
  },
  {
   "cell_type": "code",
   "execution_count": null,
   "metadata": {},
   "outputs": [],
   "source": [
    "try :\n",
    "    cursor = connect_to_localhost.cursor(pymysql.cursors.DictCursor)\n",
    "    \n",
    "    sql = \"SELECT * FROM test_table\"\n",
    "    cursor.execute(sql)\n",
    "    print(pd.DataFrame(cursor.fetchall()), end=\"\\n\\n\\n\")\n",
    "    \n",
    "    sql = \"DELETE FROM test_table WHERE name=%s\"\n",
    "    cursor.execute(sql, \"Kim WITH ID < 50\")\n",
    "    \n",
    "    sql = \"SELECT * FROM test_table\"\n",
    "    cursor.execute(sql)\n",
    "    print(pd.DataFrame(cursor.fetchall()))\n",
    "    \n",
    "except Exception as e :\n",
    "    print(str(e))\n",
    "    \n",
    "finally :\n",
    "    connect_to_localhost.close()\n",
    "    \n",
    "##\n",
    "#    id               name\n",
    "# 0  45   Kim WITH ID < 50\n",
    "# 1  46   Kim WITH ID < 50\n",
    "# 2  52  JONG WITH ID > 50\n",
    "# 3  53  JONG WITH ID > 50\n",
    "\n",
    "\n",
    "#    id               name\n",
    "# 0  52  JONG WITH ID > 50\n",
    "# 1  53  JONG WITH ID > 50"
   ]
  },
  {
   "cell_type": "code",
   "execution_count": null,
   "metadata": {},
   "outputs": [],
   "source": []
  },
  {
   "cell_type": "code",
   "execution_count": null,
   "metadata": {},
   "outputs": [],
   "source": []
  },
  {
   "cell_type": "code",
   "execution_count": null,
   "metadata": {},
   "outputs": [],
   "source": []
  },
  {
   "cell_type": "code",
   "execution_count": null,
   "metadata": {},
   "outputs": [],
   "source": []
  }
 ],
 "metadata": {
  "kernelspec": {
   "display_name": "Python 3 (ipykernel)",
   "language": "python",
   "name": "python3"
  },
  "language_info": {
   "codemirror_mode": {
    "name": "ipython",
    "version": 3
   },
   "file_extension": ".py",
   "mimetype": "text/x-python",
   "name": "python",
   "nbconvert_exporter": "python",
   "pygments_lexer": "ipython3",
   "version": "3.8.5"
  }
 },
 "nbformat": 4,
 "nbformat_minor": 4
}
